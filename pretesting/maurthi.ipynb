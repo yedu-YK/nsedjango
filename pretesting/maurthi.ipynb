{
 "cells": [
  {
   "cell_type": "code",
   "execution_count": 1,
   "metadata": {},
   "outputs": [],
   "source": [
    "import pandas as pd\n",
    "import numpy as np\n",
    "from sklearn import metrics"
   ]
  },
  {
   "cell_type": "code",
   "execution_count": 2,
   "metadata": {},
   "outputs": [],
   "source": [
    "df = pd.read_csv(\"MARUTI_data.csv\")\n"
   ]
  },
  {
   "cell_type": "code",
   "execution_count": 3,
   "metadata": {},
   "outputs": [
    {
     "data": {
      "text/html": [
       "<div>\n",
       "<style scoped>\n",
       "    .dataframe tbody tr th:only-of-type {\n",
       "        vertical-align: middle;\n",
       "    }\n",
       "\n",
       "    .dataframe tbody tr th {\n",
       "        vertical-align: top;\n",
       "    }\n",
       "\n",
       "    .dataframe thead th {\n",
       "        text-align: right;\n",
       "    }\n",
       "</style>\n",
       "<table border=\"1\" class=\"dataframe\">\n",
       "  <thead>\n",
       "    <tr style=\"text-align: right;\">\n",
       "      <th></th>\n",
       "      <th>Date</th>\n",
       "      <th>open</th>\n",
       "      <th>high</th>\n",
       "      <th>low</th>\n",
       "      <th>close</th>\n",
       "      <th>adj_close</th>\n",
       "      <th>volume</th>\n",
       "    </tr>\n",
       "  </thead>\n",
       "  <tbody>\n",
       "    <tr>\n",
       "      <th>3932</th>\n",
       "      <td>2019-05-09</td>\n",
       "      <td>6637.0</td>\n",
       "      <td>6678.000000</td>\n",
       "      <td>6600.0</td>\n",
       "      <td>6624.950195</td>\n",
       "      <td>6624.950195</td>\n",
       "      <td>570000.0</td>\n",
       "    </tr>\n",
       "    <tr>\n",
       "      <th>3933</th>\n",
       "      <td>2019-05-10</td>\n",
       "      <td>6623.0</td>\n",
       "      <td>6664.899902</td>\n",
       "      <td>6575.0</td>\n",
       "      <td>6631.600098</td>\n",
       "      <td>6631.600098</td>\n",
       "      <td>608669.0</td>\n",
       "    </tr>\n",
       "    <tr>\n",
       "      <th>3934</th>\n",
       "      <td>2019-05-13</td>\n",
       "      <td>6626.0</td>\n",
       "      <td>6659.299805</td>\n",
       "      <td>6500.0</td>\n",
       "      <td>6543.750000</td>\n",
       "      <td>6543.750000</td>\n",
       "      <td>555672.0</td>\n",
       "    </tr>\n",
       "    <tr>\n",
       "      <th>3935</th>\n",
       "      <td>2019-05-14</td>\n",
       "      <td>6511.0</td>\n",
       "      <td>6612.000000</td>\n",
       "      <td>6450.0</td>\n",
       "      <td>6576.200195</td>\n",
       "      <td>6576.200195</td>\n",
       "      <td>843313.0</td>\n",
       "    </tr>\n",
       "    <tr>\n",
       "      <th>3936</th>\n",
       "      <td>2019-05-15</td>\n",
       "      <td>6590.0</td>\n",
       "      <td>6640.000000</td>\n",
       "      <td>6560.0</td>\n",
       "      <td>6595.399902</td>\n",
       "      <td>6595.399902</td>\n",
       "      <td>190289.0</td>\n",
       "    </tr>\n",
       "  </tbody>\n",
       "</table>\n",
       "</div>"
      ],
      "text/plain": [
       "            Date    open         high     low        close    adj_close  \\\n",
       "3932  2019-05-09  6637.0  6678.000000  6600.0  6624.950195  6624.950195   \n",
       "3933  2019-05-10  6623.0  6664.899902  6575.0  6631.600098  6631.600098   \n",
       "3934  2019-05-13  6626.0  6659.299805  6500.0  6543.750000  6543.750000   \n",
       "3935  2019-05-14  6511.0  6612.000000  6450.0  6576.200195  6576.200195   \n",
       "3936  2019-05-15  6590.0  6640.000000  6560.0  6595.399902  6595.399902   \n",
       "\n",
       "        volume  \n",
       "3932  570000.0  \n",
       "3933  608669.0  \n",
       "3934  555672.0  \n",
       "3935  843313.0  \n",
       "3936  190289.0  "
      ]
     },
     "execution_count": 3,
     "metadata": {},
     "output_type": "execute_result"
    }
   ],
   "source": [
    "df.tail(5)"
   ]
  },
  {
   "cell_type": "code",
   "execution_count": 4,
   "metadata": {},
   "outputs": [
    {
     "data": {
      "text/plain": [
       "Date          0\n",
       "open         19\n",
       "high         19\n",
       "low          19\n",
       "close        19\n",
       "adj_close    19\n",
       "volume       19\n",
       "dtype: int64"
      ]
     },
     "execution_count": 4,
     "metadata": {},
     "output_type": "execute_result"
    }
   ],
   "source": [
    "df.isnull().sum()"
   ]
  },
  {
   "cell_type": "code",
   "execution_count": 5,
   "metadata": {},
   "outputs": [
    {
     "data": {
      "text/plain": [
       "<matplotlib.axes._subplots.AxesSubplot at 0x20724757198>"
      ]
     },
     "execution_count": 5,
     "metadata": {},
     "output_type": "execute_result"
    }
   ],
   "source": [
    "import seaborn as sns\n",
    "sns.heatmap(df.corr())"
   ]
  },
  {
   "cell_type": "code",
   "execution_count": 6,
   "metadata": {},
   "outputs": [],
   "source": [
    "X = df.iloc[:,[1,2,3]]\n",
    "y = df.iloc[:,[4]]"
   ]
  },
  {
   "cell_type": "code",
   "execution_count": 7,
   "metadata": {},
   "outputs": [
    {
     "data": {
      "text/plain": [
       "(3937, 3)"
      ]
     },
     "execution_count": 7,
     "metadata": {},
     "output_type": "execute_result"
    }
   ],
   "source": [
    "X.shape"
   ]
  },
  {
   "cell_type": "markdown",
   "metadata": {},
   "source": [
    "finding and handlling null values"
   ]
  },
  {
   "cell_type": "code",
   "execution_count": 8,
   "metadata": {},
   "outputs": [
    {
     "data": {
      "text/plain": [
       "Date          0\n",
       "open         19\n",
       "high         19\n",
       "low          19\n",
       "close        19\n",
       "adj_close    19\n",
       "volume       19\n",
       "dtype: int64"
      ]
     },
     "execution_count": 8,
     "metadata": {},
     "output_type": "execute_result"
    }
   ],
   "source": [
    "df.isnull().sum()"
   ]
  },
  {
   "cell_type": "code",
   "execution_count": 9,
   "metadata": {},
   "outputs": [
    {
     "name": "stderr",
     "output_type": "stream",
     "text": [
      "C:\\Users\\YEDHU KRISHNAN\\Anaconda3\\lib\\site-packages\\pandas\\core\\generic.py:6130: SettingWithCopyWarning: \n",
      "A value is trying to be set on a copy of a slice from a DataFrame\n",
      "\n",
      "See the caveats in the documentation: http://pandas.pydata.org/pandas-docs/stable/indexing.html#indexing-view-versus-copy\n",
      "  self._update_inplace(new_data)\n"
     ]
    }
   ],
   "source": [
    "X.fillna(X.mean(), inplace=True)\n",
    "y.fillna(y.mean(), inplace=True)"
   ]
  },
  {
   "cell_type": "markdown",
   "metadata": {},
   "source": [
    "data visualistaion"
   ]
  },
  {
   "cell_type": "code",
   "execution_count": 10,
   "metadata": {},
   "outputs": [],
   "source": [
    "# visualize the relationship between the features and the response using scatterplots\n",
    "# sns.pairplot(df, x_vars='open', y_vars='close', height=17, aspect=7, kind='reg')"
   ]
  },
  {
   "cell_type": "code",
   "execution_count": 11,
   "metadata": {},
   "outputs": [
    {
     "data": {
      "text/plain": [
       "<seaborn.axisgrid.PairGrid at 0x2072336ccf8>"
      ]
     },
     "execution_count": 11,
     "metadata": {},
     "output_type": "execute_result"
    },
    {
     "data": {
      "image/png": "[encoded data removed]",
      "text/plain": [
       "<Figure size 1058.4x504 with 3 Axes>"
      ]
     },
     "metadata": {
      "needs_background": "light"
     },
     "output_type": "display_data"
    }
   ],
   "source": [
    "sns.pairplot(x_vars=['open','high','low'], y_vars='close', data=df, height=7, aspect=0.7)"
   ]
  },
  {
   "cell_type": "markdown",
   "metadata": {},
   "source": [
    "splitting x and y into train and test dataset"
   ]
  },
  {
   "cell_type": "code",
   "execution_count": 12,
   "metadata": {},
   "outputs": [],
   "source": [
    "from sklearn.model_selection import train_test_split\n",
    "X_train, X_test, y_train, y_test = train_test_split(X, y, random_state=3)"
   ]
  },
  {
   "cell_type": "markdown",
   "metadata": {},
   "source": [
    "creating models"
   ]
  },
  {
   "cell_type": "code",
   "execution_count": 13,
   "metadata": {},
   "outputs": [],
   "source": [
    "from sklearn import linear_model\n",
    "reg = linear_model.LinearRegression()"
   ]
  },
  {
   "cell_type": "code",
   "execution_count": 14,
   "metadata": {},
   "outputs": [
    {
     "data": {
      "text/plain": [
       "LinearRegression(copy_X=True, fit_intercept=True, n_jobs=None,\n",
       "         normalize=False)"
      ]
     },
     "execution_count": 14,
     "metadata": {},
     "output_type": "execute_result"
    }
   ],
   "source": [
    "reg.fit(X_train,y_train)"
   ]
  },
  {
   "cell_type": "code",
   "execution_count": 15,
   "metadata": {},
   "outputs": [
    {
     "data": {
      "text/plain": [
       "array([[-0.65552796,  0.87342556,  0.78123803]])"
      ]
     },
     "execution_count": 15,
     "metadata": {},
     "output_type": "execute_result"
    }
   ],
   "source": [
    "reg.coef_"
   ]
  },
  {
   "cell_type": "markdown",
   "metadata": {},
   "source": [
    "checking accuracy"
   ]
  },
  {
   "cell_type": "code",
   "execution_count": 16,
   "metadata": {},
   "outputs": [
    {
     "data": {
      "text/plain": [
       "99.98927373020773"
      ]
     },
     "execution_count": 16,
     "metadata": {},
     "output_type": "execute_result"
    }
   ],
   "source": [
    "(reg.score(X_test, y_test))*100"
   ]
  },
  {
   "cell_type": "code",
   "execution_count": 17,
   "metadata": {},
   "outputs": [
    {
     "name": "stdout",
     "output_type": "stream",
     "text": [
      "6.588151815423089,12.267219298657862, 0.9998927373020773\n"
     ]
    }
   ],
   "source": [
    "from sklearn.metrics import median_absolute_error, mean_absolute_error, r2_score\n",
    "y_pred = reg.predict(X_test)\n",
    "print(f'{median_absolute_error(y_test,y_pred)},{mean_absolute_error(y_test,y_pred)}, {r2_score(y_test,y_pred)}')"
   ]
  },
  {
   "cell_type": "code",
   "execution_count": 18,
   "metadata": {},
   "outputs": [
    {
     "data": {
      "text/plain": [
       "array([[-72.95188035],\n",
       "       [-26.06017341],\n",
       "       [ 79.86307398]])"
      ]
     },
     "execution_count": 18,
     "metadata": {},
     "output_type": "execute_result"
    }
   ],
   "source": [
    "y_know = reg.predict([[7033,7014,6895],[6977,7156,6940],[7081,7450,7062]])\n",
    "y_true =[[6975],[7124],[7302]]\n",
    "y_know - y_true"
   ]
  },
  {
   "cell_type": "code",
   "execution_count": null,
   "metadata": {},
   "outputs": [],
   "source": []
  },
  {
   "cell_type": "code",
   "execution_count": null,
   "metadata": {},
   "outputs": [],
   "source": []
  },
  {
   "cell_type": "code",
   "execution_count": 19,
   "metadata": {},
   "outputs": [
    {
     "data": {
      "text/plain": [
       "99.98927373020773"
      ]
     },
     "execution_count": 19,
     "metadata": {},
     "output_type": "execute_result"
    }
   ],
   "source": [
    "reg = linear_model.LinearRegression(normalize=True)\n",
    "reg.fit(X_train,y_train)\n",
    "(reg.score(X_test, y_test))*100"
   ]
  },
  {
   "cell_type": "markdown",
   "metadata": {},
   "source": [
    "polynomial features"
   ]
  },
  {
   "cell_type": "code",
   "execution_count": 20,
   "metadata": {},
   "outputs": [],
   "source": [
    "from sklearn.preprocessing import PolynomialFeatures\n",
    "\n",
    "def create_polynomial(degree):\n",
    "    \"Creates a polynomial regression model for the given degree\"\n",
    "    poly_features = PolynomialFeatures(degree=degree)\n",
    "    \n",
    "    #transforming existing features to higher degree features\n",
    "    X_train_poly = poly_features.fit_transform(X_train)\n",
    "    \n",
    "    #fiting transformed features into LR\n",
    "    poly_model = linear_model.LinearRegression()\n",
    "    poly_model.fit(X_train_poly, y_train)\n",
    "    \n",
    "    #prediecting on traing dataset\n",
    "    y_train_pred = poly_model.predict(X_train_poly)\n",
    "    \n",
    "    #prediceting on test dataset\n",
    "    y_test_pred = poly_model.predict(poly_features.fit_transform(X_test))\n",
    "    \n",
    "    print(f'{median_absolute_error(y_test,y_test_pred)},{mean_absolute_error(y_test,y_test_pred)}, {r2_score(y_test,y_test_pred)}')"
   ]
  },
  {
   "cell_type": "code",
   "execution_count": 21,
   "metadata": {},
   "outputs": [
    {
     "name": "stdout",
     "output_type": "stream",
     "text": [
      "6.7536201992666065,12.379158240408923, 0.9998925548961187\n"
     ]
    }
   ],
   "source": [
    "create_polynomial(2)"
   ]
  },
  {
   "cell_type": "code",
   "execution_count": 22,
   "metadata": {},
   "outputs": [
    {
     "data": {
      "text/plain": [
       "Ridge(alpha=1.0, copy_X=True, fit_intercept=False, max_iter=None,\n",
       "   normalize=False, random_state=None, solver='auto', tol=0.001)"
      ]
     },
     "execution_count": 22,
     "metadata": {},
     "output_type": "execute_result"
    }
   ],
   "source": [
    "ridge = linear_model.Ridge(fit_intercept=False)\n",
    "ridge.fit(X_train, y_train)"
   ]
  },
  {
   "cell_type": "code",
   "execution_count": 23,
   "metadata": {},
   "outputs": [
    {
     "name": "stdout",
     "output_type": "stream",
     "text": [
      "6.577577128483313,12.27646843927238, 0.9998924513082579\n"
     ]
    }
   ],
   "source": [
    "from sklearn.metrics import median_absolute_error, mean_absolute_error, r2_score\n",
    "y_pred = ridge.predict(X_test)\n",
    "print(f'{median_absolute_error(y_test,y_pred)},{mean_absolute_error(y_test,y_pred)}, {r2_score(y_test,y_pred)}')"
   ]
  },
  {
   "cell_type": "code",
   "execution_count": 24,
   "metadata": {},
   "outputs": [
    {
     "data": {
      "text/plain": [
       "array([[-73.03585214],\n",
       "       [-26.50746171],\n",
       "       [ 78.85843663]])"
      ]
     },
     "execution_count": 24,
     "metadata": {},
     "output_type": "execute_result"
    }
   ],
   "source": [
    "y_know = ridge.predict([[7033,7014,6895],[6977,7156,6940],[7081,7450,7062]])\n",
    "y_true =[[6975],[7124],[7302]]\n",
    "y_know - y_true"
   ]
  },
  {
   "cell_type": "code",
   "execution_count": 25,
   "metadata": {},
   "outputs": [
    {
     "data": {
      "text/plain": [
       "array([[6901.96414786],\n",
       "       [7097.49253829],\n",
       "       [7380.85843663]])"
      ]
     },
     "execution_count": 25,
     "metadata": {},
     "output_type": "execute_result"
    }
   ],
   "source": [
    "y_know"
   ]
  },
  {
   "cell_type": "markdown",
   "metadata": {},
   "source": [
    "finding acccuarcy of lasso alogrothim"
   ]
  },
  {
   "cell_type": "code",
   "execution_count": 26,
   "metadata": {},
   "outputs": [
    {
     "name": "stdout",
     "output_type": "stream",
     "text": [
      "13.691028491399265,27.542136921207728, 0.9996470618360027\n"
     ]
    },
    {
     "name": "stderr",
     "output_type": "stream",
     "text": [
      "C:\\Users\\YEDHU KRISHNAN\\Anaconda3\\lib\\site-packages\\sklearn\\linear_model\\coordinate_descent.py:492: ConvergenceWarning: Objective did not converge. You might want to increase the number of iterations. Fitting data with very small alpha may cause precision problems.\n",
      "  ConvergenceWarning)\n"
     ]
    }
   ],
   "source": [
    "lasso = linear_model.Lasso(alpha=10)\n",
    "lasso.fit(X_train, y_train)\n",
    "y_pred = lasso.predict(X_test)\n",
    "print(f'{median_absolute_error(y_test,y_pred)},{mean_absolute_error(y_test,y_pred)}, {r2_score(y_test,y_pred)}')"
   ]
  },
  {
   "cell_type": "code",
   "execution_count": 27,
   "metadata": {},
   "outputs": [
    {
     "data": {
      "text/plain": [
       "array([[  31.67519894,   13.32453069,  152.12273629],\n",
       "       [-117.32480106, -135.67546931,    3.12273629],\n",
       "       [-295.32480106, -313.67546931, -174.87726371]])"
      ]
     },
     "execution_count": 27,
     "metadata": {},
     "output_type": "execute_result"
    }
   ],
   "source": [
    "y_know = lasso.predict([[7033,7014,6895],[6977,7156,6940],[7081,7450,7062]])\n",
    "y_true =[[6975],[7124],[7302]]\n",
    "y_know - y_true"
   ]
  },
  {
   "cell_type": "code",
   "execution_count": 28,
   "metadata": {},
   "outputs": [
    {
     "data": {
      "text/plain": [
       "array([7006.67519894, 6988.32453069, 7127.12273629])"
      ]
     },
     "execution_count": 28,
     "metadata": {},
     "output_type": "execute_result"
    }
   ],
   "source": [
    "y_know"
   ]
  },
  {
   "cell_type": "markdown",
   "metadata": {},
   "source": [
    "using Bayassian regression"
   ]
  },
  {
   "cell_type": "code",
   "execution_count": 29,
   "metadata": {},
   "outputs": [
    {
     "name": "stdout",
     "output_type": "stream",
     "text": [
      "6.585624563056626,-----12.267205858774785,------ 0.9998927644934464\n",
      "[[ -72.92902996  122.91363677  406.80066021]\n",
      " [-221.92902996  -26.08636323  257.80066021]\n",
      " [-399.92902996 -204.08636323   79.80066021]]-------------[6902.07097004 7097.91363677 7381.80066021]\n"
     ]
    },
    {
     "name": "stderr",
     "output_type": "stream",
     "text": [
      "C:\\Users\\YEDHU KRISHNAN\\Anaconda3\\lib\\site-packages\\sklearn\\utils\\validation.py:761: DataConversionWarning: A column-vector y was passed when a 1d array was expected. Please change the shape of y to (n_samples, ), for example using ravel().\n",
      "  y = column_or_1d(y, warn=True)\n"
     ]
    }
   ],
   "source": [
    "bayes = linear_model.BayesianRidge()\n",
    "bayes.fit(X_train, y_train)\n",
    "y_pred = bayes.predict(X_test)\n",
    "from sklearn.metrics import median_absolute_error, mean_absolute_error, r2_score\n",
    "print(f'{median_absolute_error(y_test,y_pred)},-----{mean_absolute_error(y_test,y_pred)},------ {r2_score(y_test,y_pred)}')\n",
    "y_know = bayes.predict([[7033,7014,6895],[6977,7156,6940],[7081,7450,7062]])\n",
    "y_true =[[6975],[7124],[7302]]\n",
    "print(f\"{y_know - y_true}-------------{y_know}\")"
   ]
  },
  {
   "cell_type": "markdown",
   "metadata": {},
   "source": [
    "selecting model with heighest accuracy"
   ]
  },
  {
   "cell_type": "code",
   "execution_count": 30,
   "metadata": {},
   "outputs": [],
   "source": [
    "reg = linear_model.LinearRegression()"
   ]
  },
  {
   "cell_type": "code",
   "execution_count": 34,
   "metadata": {},
   "outputs": [
    {
     "name": "stdout",
     "output_type": "stream",
     "text": [
      "[[-67.19763322]\n",
      " [-28.30925533]\n",
      " [ 76.64478565]]-------------\n",
      "\n",
      "\n",
      "[[6907.80236678]\n",
      " [7095.69074467]\n",
      " [7378.64478565]]\n"
     ]
    }
   ],
   "source": [
    "reg.fit(X, y)\n",
    "# y_pred = reg.predict(X_test)\n",
    "# print(f'{median_absolute_error(y_test,y_pred)},{mean_absolute_error(y_test,y_pred)}, {r2_score(y_test,y_pred)}')\n",
    "y_know = reg.predict([[7033,7014,6895],[6977,7156,6940],[7081,7450,7062]])\n",
    "y_true =[[6975],[7124],[7302]]\n",
    "print(f\"{y_know - y_true}-------------\\n\\n\\n{y_know}\")"
   ]
  },
  {
   "cell_type": "code",
   "execution_count": 37,
   "metadata": {},
   "outputs": [
    {
     "data": {
      "text/plain": [
       "array([[7309.50373228]])"
      ]
     },
     "execution_count": 37,
     "metadata": {},
     "output_type": "execute_result"
    }
   ],
   "source": [
    "reg.predict([[7114.35,7378.50,7080.25]])"
   ]
  },
  {
   "cell_type": "code",
   "execution_count": null,
   "metadata": {},
   "outputs": [],
   "source": []
  }
 ],
 "metadata": {
  "kernelspec": {
   "display_name": "Python 3",
   "language": "python",
   "name": "python3"
  },
  "language_info": {
   "codemirror_mode": {
    "name": "ipython",
    "version": 3
   },
   "file_extension": ".py",
   "mimetype": "text/x-python",
   "name": "python",
   "nbconvert_exporter": "python",
   "pygments_lexer": "ipython3",
   "version": "3.7.3"
  }
 },
 "nbformat": 4,
 "nbformat_minor": 2
}
